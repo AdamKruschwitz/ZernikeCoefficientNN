{
 "cells": [
  {
   "cell_type": "markdown",
   "metadata": {},
   "source": [
    "# Finding Zernike Coefficients using Machine Learning\n",
    "I'm not sure what a zernike coefficient is, but I have experience with machine learning and my dad gave me some data so let's see if we can't come up with a solution."
   ]
  },
  {
   "cell_type": "code",
   "execution_count": 1,
   "metadata": {},
   "outputs": [],
   "source": [
    "# Used to process image data\n",
    "from PIL import Image\n",
    "\n",
    "# Used to load in all files in a directory\n",
    "import glob\n",
    "\n",
    "# Scientific and vector computation for python\n",
    "import numpy as np\n",
    "\n",
    "# Plotting library\n",
    "from matplotlib import pyplot\n",
    "import matplotlib.pyplot as plt\n",
    "\n",
    "# Optimization module in scipy\n",
    "from scipy import optimize\n",
    "\n",
    "# will be used to load MATLAB mat datafile format\n",
    "from scipy.io import loadmat\n",
    "\n",
    "# Used for feature normalization\n",
    "from sklearn import preprocessing\n",
    "\n",
    "# will be used to open some of the csv data\n",
    "import csv\n",
    "\n",
    "# Will be used to solve a NN regression model\n",
    "from sklearn.neural_network import MLPRegressor\n",
    "from sklearn import datasets\n",
    "\n",
    "# Used to split data and assess error\n",
    "from sklearn.model_selection import train_test_split\n",
    "from sklearn.metrics import mean_squared_error\n",
    "from math import sqrt"
   ]
  },
  {
   "cell_type": "markdown",
   "metadata": {},
   "source": [
    "# Load in all the data\n",
    "Data is stored in one CSV file and 3125 bmp files"
   ]
  },
  {
   "cell_type": "code",
   "execution_count": 2,
   "metadata": {},
   "outputs": [
    {
     "name": "stdout",
     "output_type": "stream",
     "text": [
      "3125\n",
      "[[0 0 0 ..., 0 0 0]\n",
      " [0 0 0 ..., 0 0 0]\n",
      " [0 0 0 ..., 0 0 0]\n",
      " ..., \n",
      " [0 0 0 ..., 0 0 0]\n",
      " [0 0 0 ..., 0 0 0]\n",
      " [0 0 0 ..., 0 0 0]]\n"
     ]
    }
   ],
   "source": [
    "# Load in the images\n",
    "MAX_FILE = 3125\n",
    "rawData = []\n",
    "fileNameInt = 0\n",
    "for filename in glob.glob('data/Training_images/*.bmp'):\n",
    "    img = Image.open(filename)\n",
    "    rawData.append(np.array(img))\n",
    "    img.close()\n",
    "    \n",
    "print(len(rawData))\n",
    "print(rawData[0])"
   ]
  },
  {
   "cell_type": "code",
   "execution_count": 8,
   "metadata": {},
   "outputs": [
    {
     "name": "stdout",
     "output_type": "stream",
     "text": [
      "(64, 64)\n"
     ]
    }
   ],
   "source": [
    "print(rawData[0].shape)"
   ]
  },
  {
   "cell_type": "code",
   "execution_count": 3,
   "metadata": {},
   "outputs": [],
   "source": [
    "# Put this into a 3125 x 64 x 64 matrix\n",
    "data_preReshape = np.stack(rawData)\n",
    "\n",
    "# Reshape into a 3125 x 4096 matrix for training\n",
    "X = data_preReshape.reshape(data_preReshape.shape[0], -1)"
   ]
  },
  {
   "cell_type": "code",
   "execution_count": 10,
   "metadata": {},
   "outputs": [
    {
     "data": {
      "text/plain": [
       "(3125, 4096)"
      ]
     },
     "execution_count": 10,
     "metadata": {},
     "output_type": "execute_result"
    }
   ],
   "source": [
    "X.shape"
   ]
  },
  {
   "cell_type": "code",
   "execution_count": 4,
   "metadata": {},
   "outputs": [
    {
     "name": "stdout",
     "output_type": "stream",
     "text": [
      "3125\n",
      "5\n"
     ]
    }
   ],
   "source": [
    "# Open the CSV file\n",
    "yList = []\n",
    "with open('data/ZernikeCoeff_list.csv', 'r') as csvfile:\n",
    "    reader = csv.reader(csvfile, delimiter=',', quoting=csv.QUOTE_NONNUMERIC)\n",
    "    for row in reader:\n",
    "        yList.append(row)\n",
    "        \n",
    "print(len(yList))\n",
    "print(len(yList[0]))"
   ]
  },
  {
   "cell_type": "code",
   "execution_count": 5,
   "metadata": {},
   "outputs": [
    {
     "name": "stdout",
     "output_type": "stream",
     "text": [
      "(3125, 5)\n"
     ]
    }
   ],
   "source": [
    "# Put the Y values into a 3125 x 5 matrix\n",
    "Y = np.stack(yList)\n",
    "print(Y.shape)"
   ]
  },
  {
   "cell_type": "code",
   "execution_count": 6,
   "metadata": {},
   "outputs": [],
   "source": [
    "# Normalize the features\n",
    "# Normally we would subtract by the mean then divide by the standard deviation of the data to normalize,\n",
    "# but since we're using an image as input we can take a shortcut and just divide by 255\n",
    "X_norm = X / 255"
   ]
  },
  {
   "cell_type": "markdown",
   "metadata": {},
   "source": [
    "# Training a Neural Network Regression\n",
    "Now that we have our data, we can begin trying to create a system to predict new images. In ML, unless you have some intuition as to an architecture which will work, it's best to try out many things and see what sticks. First let's work on an MLP Regression algorithm. Tuning this will give us a better understanding of what the network will do."
   ]
  },
  {
   "cell_type": "code",
   "execution_count": 9,
   "metadata": {},
   "outputs": [],
   "source": [
    "# Trains a NN with the given hyperparameters and dataset. X.shape = (m, n) and Y.shape = (m, k) where k is outputs.\n",
    "# returns an MLPRegressor, which you can find predictions from using mlp.predict(X)\n",
    "def trainNNRegression(X, Y, \n",
    "                      hidden_layer_sizes=(100, ), \n",
    "                      activation='relu', \n",
    "                      solver='adam', \n",
    "                      alpha=0.0001, \n",
    "                      batch_size='auto', \n",
    "                      learning_rate= 'constant', \n",
    "                      learning_rate_init=0.001, \n",
    "                      power_t=0.5, \n",
    "                      max_iter=200, \n",
    "                      shuffle=True, \n",
    "                      random_state=None, \n",
    "                      tol=0.0001, \n",
    "                      verbose=False, \n",
    "                      warm_start=False, \n",
    "                      momentum=0.9, \n",
    "                      nesterovs_momentum=True, \n",
    "                      early_stopping=False, \n",
    "                      validation_fraction=0.1, \n",
    "                      beta_1=0.9, \n",
    "                      beta_2=0.999, \n",
    "                      epsilon=1e-08, \n",
    "                      n_iter_no_change=10):\n",
    "    \n",
    "    NNRegressor = MLPRegressor(\n",
    "        hidden_layer_sizes=hidden_layer_sizes,\n",
    "        activation=activation,\n",
    "        solver=solver,\n",
    "        alpha=alpha,\n",
    "        batch_size=batch_size,\n",
    "        learning_rate=learning_rate,\n",
    "        learning_rate_init=learning_rate_init,\n",
    "        power_t=power_t,\n",
    "        max_iter=max_iter,\n",
    "        shuffle=shuffle,\n",
    "        random_state=random_state,\n",
    "        tol=tol,\n",
    "        verbose=verbose,\n",
    "        warm_start=warm_start,\n",
    "        momentum=momentum,\n",
    "        nesterovs_momentum=nesterovs_momentum,\n",
    "        early_stopping=early_stopping,\n",
    "        validation_fraction=validation_fraction,\n",
    "        beta_1=beta_1,\n",
    "        beta_2=beta_2,\n",
    "        epsilon=epsilon,\n",
    "        n_iter_no_change=n_iter_no_change\n",
    "    )\n",
    "    NNRegressor.fit(X, Y)\n",
    "    \n",
    "    return NNRegressor"
   ]
  },
  {
   "cell_type": "code",
   "execution_count": 7,
   "metadata": {},
   "outputs": [],
   "source": [
    "# Split up our training data into a train set and a test set\n",
    "X_train, X_test, Y_train, Y_test = train_test_split(X, Y, test_size=.33, random_state=42)"
   ]
  },
  {
   "cell_type": "code",
   "execution_count": 14,
   "metadata": {},
   "outputs": [],
   "source": [
    "nnRegression = trainNNRegression(X_train, Y_train)"
   ]
  },
  {
   "cell_type": "code",
   "execution_count": 12,
   "metadata": {},
   "outputs": [],
   "source": [
    "# Given a trained MLPRegressor, find the Root Mean Squared Error of the dataset\n",
    "def findRMSE(nnRegression, X, Y):\n",
    "    Y_predict = nnRegression.predict(X)\n",
    "    rmse = sqrt(mean_squared_error(Y, Y_predict))\n",
    "    return rmse"
   ]
  },
  {
   "cell_type": "code",
   "execution_count": 15,
   "metadata": {},
   "outputs": [
    {
     "name": "stdout",
     "output_type": "stream",
     "text": [
      "1.6525636397921966\n"
     ]
    }
   ],
   "source": [
    "print(findRMSE(nnRegression, X_test, Y_test))"
   ]
  },
  {
   "cell_type": "code",
   "execution_count": null,
   "metadata": {},
   "outputs": [],
   "source": []
  }
 ],
 "metadata": {
  "kernelspec": {
   "display_name": "Python 3",
   "language": "python",
   "name": "python3"
  },
  "language_info": {
   "codemirror_mode": {
    "name": "ipython",
    "version": 3
   },
   "file_extension": ".py",
   "mimetype": "text/x-python",
   "name": "python",
   "nbconvert_exporter": "python",
   "pygments_lexer": "ipython3",
   "version": "3.6.8"
  }
 },
 "nbformat": 4,
 "nbformat_minor": 2
}
